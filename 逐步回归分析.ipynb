{
 "cells": [
  {
   "cell_type": "code",
   "execution_count": 2,
   "metadata": {},
   "outputs": [],
   "source": [
    "import torch\n",
    "import torch.nn as nn\n",
    "import torch.nn.functional as F\n",
    "import numpy as np\n",
    "import pandas as pd\n",
    "import random\n",
    "import geopandas as gpd\n",
    "\n",
    "from torch.utils.data import TensorDataset, DataLoader, Subset\n",
    "from sklearn.model_selection import StratifiedShuffleSplit\n",
    "from livelossplot import PlotLosses\n",
    "from sklearn.metrics import accuracy_score\n"
   ]
  },
  {
   "cell_type": "code",
   "execution_count": 17,
   "metadata": {},
   "outputs": [],
   "source": [
    "df = pd.read_csv('./data/2010-2017_30*30网格划分.csv')"
   ]
  },
  {
   "cell_type": "code",
   "execution_count": 18,
   "metadata": {},
   "outputs": [
    {
     "data": {
      "text/html": [
       "<div>\n",
       "<style scoped>\n",
       "    .dataframe tbody tr th:only-of-type {\n",
       "        vertical-align: middle;\n",
       "    }\n",
       "\n",
       "    .dataframe tbody tr th {\n",
       "        vertical-align: top;\n",
       "    }\n",
       "\n",
       "    .dataframe thead th {\n",
       "        text-align: right;\n",
       "    }\n",
       "</style>\n",
       "<table border=\"1\" class=\"dataframe\">\n",
       "  <thead>\n",
       "    <tr style=\"text-align: right;\">\n",
       "      <th></th>\n",
       "      <th>injection_vol</th>\n",
       "      <th>injection_psi</th>\n",
       "      <th>injection_depth_sum</th>\n",
       "      <th>depth_to_basement</th>\n",
       "      <th>HF_number</th>\n",
       "      <th>HF_Base_Water_Volume</th>\n",
       "      <th>HF_Base_NoWater_Volume</th>\n",
       "      <th>earthquake_occurence</th>\n",
       "    </tr>\n",
       "  </thead>\n",
       "  <tbody>\n",
       "    <tr>\n",
       "      <th>0</th>\n",
       "      <td>0.0</td>\n",
       "      <td>0.0</td>\n",
       "      <td>0.0</td>\n",
       "      <td>0.0</td>\n",
       "      <td>0</td>\n",
       "      <td>0.0</td>\n",
       "      <td>0.0</td>\n",
       "      <td>0</td>\n",
       "    </tr>\n",
       "    <tr>\n",
       "      <th>1</th>\n",
       "      <td>0.0</td>\n",
       "      <td>0.0</td>\n",
       "      <td>0.0</td>\n",
       "      <td>0.0</td>\n",
       "      <td>0</td>\n",
       "      <td>0.0</td>\n",
       "      <td>0.0</td>\n",
       "      <td>0</td>\n",
       "    </tr>\n",
       "    <tr>\n",
       "      <th>2</th>\n",
       "      <td>0.0</td>\n",
       "      <td>0.0</td>\n",
       "      <td>0.0</td>\n",
       "      <td>0.0</td>\n",
       "      <td>0</td>\n",
       "      <td>0.0</td>\n",
       "      <td>0.0</td>\n",
       "      <td>0</td>\n",
       "    </tr>\n",
       "    <tr>\n",
       "      <th>3</th>\n",
       "      <td>0.0</td>\n",
       "      <td>0.0</td>\n",
       "      <td>0.0</td>\n",
       "      <td>0.0</td>\n",
       "      <td>0</td>\n",
       "      <td>0.0</td>\n",
       "      <td>0.0</td>\n",
       "      <td>0</td>\n",
       "    </tr>\n",
       "    <tr>\n",
       "      <th>4</th>\n",
       "      <td>0.0</td>\n",
       "      <td>0.0</td>\n",
       "      <td>0.0</td>\n",
       "      <td>0.0</td>\n",
       "      <td>0</td>\n",
       "      <td>0.0</td>\n",
       "      <td>0.0</td>\n",
       "      <td>0</td>\n",
       "    </tr>\n",
       "    <tr>\n",
       "      <th>...</th>\n",
       "      <td>...</td>\n",
       "      <td>...</td>\n",
       "      <td>...</td>\n",
       "      <td>...</td>\n",
       "      <td>...</td>\n",
       "      <td>...</td>\n",
       "      <td>...</td>\n",
       "      <td>...</td>\n",
       "    </tr>\n",
       "    <tr>\n",
       "      <th>895</th>\n",
       "      <td>0.0</td>\n",
       "      <td>0.0</td>\n",
       "      <td>0.0</td>\n",
       "      <td>0.0</td>\n",
       "      <td>0</td>\n",
       "      <td>0.0</td>\n",
       "      <td>0.0</td>\n",
       "      <td>0</td>\n",
       "    </tr>\n",
       "    <tr>\n",
       "      <th>896</th>\n",
       "      <td>0.0</td>\n",
       "      <td>0.0</td>\n",
       "      <td>0.0</td>\n",
       "      <td>0.0</td>\n",
       "      <td>0</td>\n",
       "      <td>0.0</td>\n",
       "      <td>0.0</td>\n",
       "      <td>0</td>\n",
       "    </tr>\n",
       "    <tr>\n",
       "      <th>897</th>\n",
       "      <td>0.0</td>\n",
       "      <td>0.0</td>\n",
       "      <td>0.0</td>\n",
       "      <td>0.0</td>\n",
       "      <td>0</td>\n",
       "      <td>0.0</td>\n",
       "      <td>0.0</td>\n",
       "      <td>0</td>\n",
       "    </tr>\n",
       "    <tr>\n",
       "      <th>898</th>\n",
       "      <td>1732820.0</td>\n",
       "      <td>27600.0</td>\n",
       "      <td>13506.0</td>\n",
       "      <td>0.0</td>\n",
       "      <td>0</td>\n",
       "      <td>0.0</td>\n",
       "      <td>0.0</td>\n",
       "      <td>0</td>\n",
       "    </tr>\n",
       "    <tr>\n",
       "      <th>899</th>\n",
       "      <td>160800.0</td>\n",
       "      <td>0.0</td>\n",
       "      <td>4845.0</td>\n",
       "      <td>0.0</td>\n",
       "      <td>0</td>\n",
       "      <td>0.0</td>\n",
       "      <td>0.0</td>\n",
       "      <td>0</td>\n",
       "    </tr>\n",
       "  </tbody>\n",
       "</table>\n",
       "<p>900 rows × 8 columns</p>\n",
       "</div>"
      ],
      "text/plain": [
       "     injection_vol  injection_psi  injection_depth_sum  depth_to_basement  \\\n",
       "0              0.0            0.0                  0.0                0.0   \n",
       "1              0.0            0.0                  0.0                0.0   \n",
       "2              0.0            0.0                  0.0                0.0   \n",
       "3              0.0            0.0                  0.0                0.0   \n",
       "4              0.0            0.0                  0.0                0.0   \n",
       "..             ...            ...                  ...                ...   \n",
       "895            0.0            0.0                  0.0                0.0   \n",
       "896            0.0            0.0                  0.0                0.0   \n",
       "897            0.0            0.0                  0.0                0.0   \n",
       "898      1732820.0        27600.0              13506.0                0.0   \n",
       "899       160800.0            0.0               4845.0                0.0   \n",
       "\n",
       "     HF_number  HF_Base_Water_Volume  HF_Base_NoWater_Volume  \\\n",
       "0            0                   0.0                     0.0   \n",
       "1            0                   0.0                     0.0   \n",
       "2            0                   0.0                     0.0   \n",
       "3            0                   0.0                     0.0   \n",
       "4            0                   0.0                     0.0   \n",
       "..         ...                   ...                     ...   \n",
       "895          0                   0.0                     0.0   \n",
       "896          0                   0.0                     0.0   \n",
       "897          0                   0.0                     0.0   \n",
       "898          0                   0.0                     0.0   \n",
       "899          0                   0.0                     0.0   \n",
       "\n",
       "     earthquake_occurence  \n",
       "0                       0  \n",
       "1                       0  \n",
       "2                       0  \n",
       "3                       0  \n",
       "4                       0  \n",
       "..                    ...  \n",
       "895                     0  \n",
       "896                     0  \n",
       "897                     0  \n",
       "898                     0  \n",
       "899                     0  \n",
       "\n",
       "[900 rows x 8 columns]"
      ]
     },
     "execution_count": 18,
     "metadata": {},
     "output_type": "execute_result"
    }
   ],
   "source": [
    "df"
   ]
  },
  {
   "cell_type": "markdown",
   "metadata": {},
   "source": [
    "# 初步构建逻辑回归模型"
   ]
  },
  {
   "cell_type": "code",
   "execution_count": 19,
   "metadata": {},
   "outputs": [
    {
     "name": "stdout",
     "output_type": "stream",
     "text": [
      "原始数据特征： (900, 7) 训练数据特征： (720, 7) 测试数据特征 (180, 7)\n",
      "原始数据标签： (900,) 训练数据标签： (720,) 测试数据标签 (180,)\n"
     ]
    },
    {
     "data": {
      "text/plain": [
       "0.5888888888888889"
      ]
     },
     "execution_count": 19,
     "metadata": {},
     "output_type": "execute_result"
    }
   ],
   "source": [
    "#第一步：导入逻辑回归\n",
    "from sklearn.linear_model import LogisticRegression\n",
    "from sklearn.model_selection import train_test_split\n",
    "\n",
    "x_columns = df.columns.tolist()[:-1]\n",
    "\n",
    "#特征features\n",
    "X = df[x_columns]\n",
    "#标签labels\n",
    "Y = df['earthquake_occurence']\n",
    "\n",
    "X_train,X_test,y_train,y_test=train_test_split(X,Y,train_size=0.8)\n",
    "\n",
    "#输出数据大小\n",
    "print('原始数据特征：',X.shape,\n",
    "     '训练数据特征：',X_train.shape,\n",
    "      '测试数据特征',X_test.shape)\n",
    "\n",
    "print('原始数据标签：',Y.shape,\n",
    "     '训练数据标签：',y_train.shape,\n",
    "      '测试数据标签',y_test.shape)\n",
    "\n",
    "feature_number = len(x_columns)\n",
    "\n",
    "#将训练数据特征转换成二维数组X行*1列\n",
    "X_train=X_train.values.reshape(-1,feature_number)\n",
    "#将测试数据特征转换成二维数组X行*1列\n",
    "X_test=X_test.values.reshape(-1,feature_number)\n",
    "\n",
    "\n",
    "#第二步：创建模型：逻辑回归\n",
    "model=LogisticRegression()\n",
    "#第三步：训练模型\n",
    "model.fit(X_train,y_train)\n",
    "\n",
    "#评估模型：准确率\n",
    "model.score(X_test,y_test)"
   ]
  },
  {
   "cell_type": "markdown",
   "metadata": {},
   "source": [
    "# 逐步回归"
   ]
  },
  {
   "cell_type": "code",
   "execution_count": 20,
   "metadata": {},
   "outputs": [
    {
     "name": "stdout",
     "output_type": "stream",
     "text": [
      "['injection_vol', 'injection_psi', 'injection_depth_sum', 'depth_to_basement', 'HF_number', 'HF_Base_Water_Volume', 'HF_Base_NoWater_Volume']\n"
     ]
    }
   ],
   "source": [
    "x_columns = df.columns.tolist()[:-1]\n",
    "print(feature_names)"
   ]
  },
  {
   "cell_type": "code",
   "execution_count": 21,
   "metadata": {},
   "outputs": [],
   "source": [
    "y = df[\"earthquake_occurence\"]"
   ]
  },
  {
   "cell_type": "code",
   "execution_count": 22,
   "metadata": {},
   "outputs": [
    {
     "name": "stdout",
     "output_type": "stream",
     "text": [
      "                                  OLS Regression Results                                 \n",
      "=========================================================================================\n",
      "Dep. Variable:     earthquake_occurence   R-squared (uncentered):                   0.306\n",
      "Model:                              OLS   Adj. R-squared (uncentered):              0.300\n",
      "Method:                   Least Squares   F-statistic:                              56.15\n",
      "Date:                  Fri, 23 Jul 2021   Prob (F-statistic):                    1.24e-66\n",
      "Time:                          00:29:50   Log-Likelihood:                         -712.90\n",
      "No. Observations:                   900   AIC:                                      1440.\n",
      "Df Residuals:                       893   BIC:                                      1473.\n",
      "Df Model:                             7                                                  \n",
      "Covariance Type:              nonrobust                                                  \n",
      "==========================================================================================\n",
      "                             coef    std err          t      P>|t|      [0.025      0.975]\n",
      "------------------------------------------------------------------------------------------\n",
      "injection_vol           1.114e-09   8.27e-10      1.347      0.178   -5.09e-10    2.74e-09\n",
      "injection_psi           -2.24e-07   2.79e-08     -8.041      0.000   -2.79e-07   -1.69e-07\n",
      "injection_depth_sum     6.487e-07   7.57e-08      8.573      0.000       5e-07    7.97e-07\n",
      "depth_to_basement        8.87e-05   1.57e-05      5.653      0.000    5.79e-05       0.000\n",
      "HF_number                  0.0002   5.22e-05      3.318      0.001    7.08e-05       0.000\n",
      "HF_Base_Water_Volume    1.134e-11   8.17e-12      1.387      0.166    -4.7e-12    2.74e-11\n",
      "HF_Base_NoWater_Volume -5.017e-11   4.55e-11     -1.102      0.271   -1.39e-10    3.92e-11\n",
      "==============================================================================\n",
      "Omnibus:                        9.136   Durbin-Watson:                   0.916\n",
      "Prob(Omnibus):                  0.010   Jarque-Bera (JB):                6.142\n",
      "Skew:                           0.019   Prob(JB):                       0.0464\n",
      "Kurtosis:                       2.597   Cond. No.                     1.19e+07\n",
      "==============================================================================\n",
      "\n",
      "Notes:\n",
      "[1] R² is computed without centering (uncentered) since the model does not contain a constant.\n",
      "[2] Standard Errors assume that the covariance matrix of the errors is correctly specified.\n",
      "[3] The condition number is large, 1.19e+07. This might indicate that there are\n",
      "strong multicollinearity or other numerical problems.\n"
     ]
    }
   ],
   "source": [
    "## creating function to get model statistics\n",
    "import numpy as np\n",
    "import statsmodels.api as sm\n",
    "def get_stats():\n",
    "    x = df[x_columns]\n",
    "    results = sm.OLS(y, x).fit()\n",
    "    print(results.summary())\n",
    "\n",
    "get_stats()"
   ]
  },
  {
   "cell_type": "code",
   "execution_count": 23,
   "metadata": {},
   "outputs": [
    {
     "name": "stdout",
     "output_type": "stream",
     "text": [
      "                                  OLS Regression Results                                 \n",
      "=========================================================================================\n",
      "Dep. Variable:     earthquake_occurence   R-squared (uncentered):                   0.305\n",
      "Model:                              OLS   Adj. R-squared (uncentered):              0.300\n",
      "Method:                   Least Squares   F-statistic:                              65.30\n",
      "Date:                  Fri, 23 Jul 2021   Prob (F-statistic):                    2.66e-67\n",
      "Time:                          00:29:51   Log-Likelihood:                         -713.51\n",
      "No. Observations:                   900   AIC:                                      1439.\n",
      "Df Residuals:                       894   BIC:                                      1468.\n",
      "Df Model:                             6                                                  \n",
      "Covariance Type:              nonrobust                                                  \n",
      "========================================================================================\n",
      "                           coef    std err          t      P>|t|      [0.025      0.975]\n",
      "----------------------------------------------------------------------------------------\n",
      "injection_vol         1.147e-09   8.27e-10      1.387      0.166   -4.76e-10    2.77e-09\n",
      "injection_psi        -2.251e-07   2.78e-08     -8.085      0.000    -2.8e-07    -1.7e-07\n",
      "injection_depth_sum   6.499e-07   7.57e-08      8.589      0.000    5.01e-07    7.98e-07\n",
      "depth_to_basement     8.719e-05   1.56e-05      5.577      0.000    5.65e-05       0.000\n",
      "HF_number                0.0002   5.19e-05      3.215      0.001     6.5e-05       0.000\n",
      "HF_Base_Water_Volume  1.207e-11   8.15e-12      1.481      0.139   -3.92e-12    2.81e-11\n",
      "==============================================================================\n",
      "Omnibus:                        9.228   Durbin-Watson:                   0.913\n",
      "Prob(Omnibus):                  0.010   Jarque-Bera (JB):                6.197\n",
      "Skew:                           0.022   Prob(JB):                       0.0451\n",
      "Kurtosis:                       2.596   Cond. No.                     1.19e+07\n",
      "==============================================================================\n",
      "\n",
      "Notes:\n",
      "[1] R² is computed without centering (uncentered) since the model does not contain a constant.\n",
      "[2] Standard Errors assume that the covariance matrix of the errors is correctly specified.\n",
      "[3] The condition number is large, 1.19e+07. This might indicate that there are\n",
      "strong multicollinearity or other numerical problems.\n"
     ]
    }
   ],
   "source": [
    "x_columns.remove(\"HF_Base_NoWater_Volume\")\n",
    "get_stats()"
   ]
  },
  {
   "cell_type": "code",
   "execution_count": 24,
   "metadata": {},
   "outputs": [
    {
     "name": "stdout",
     "output_type": "stream",
     "text": [
      "                                  OLS Regression Results                                 \n",
      "=========================================================================================\n",
      "Dep. Variable:     earthquake_occurence   R-squared (uncentered):                   0.303\n",
      "Model:                              OLS   Adj. R-squared (uncentered):              0.299\n",
      "Method:                   Least Squares   F-statistic:                              77.89\n",
      "Date:                  Fri, 23 Jul 2021   Prob (F-statistic):                    7.42e-68\n",
      "Time:                          00:29:52   Log-Likelihood:                         -714.48\n",
      "No. Observations:                   900   AIC:                                      1439.\n",
      "Df Residuals:                       895   BIC:                                      1463.\n",
      "Df Model:                             5                                                  \n",
      "Covariance Type:              nonrobust                                                  \n",
      "========================================================================================\n",
      "                           coef    std err          t      P>|t|      [0.025      0.975]\n",
      "----------------------------------------------------------------------------------------\n",
      "injection_psi        -2.097e-07   2.55e-08     -8.210      0.000    -2.6e-07    -1.6e-07\n",
      "injection_depth_sum   7.009e-07   6.61e-08     10.596      0.000    5.71e-07    8.31e-07\n",
      "depth_to_basement     8.431e-05   1.55e-05      5.438      0.000    5.39e-05       0.000\n",
      "HF_number                0.0002   4.76e-05      4.115      0.000       0.000       0.000\n",
      "HF_Base_Water_Volume  8.892e-12   7.82e-12      1.137      0.256   -6.46e-12    2.42e-11\n",
      "==============================================================================\n",
      "Omnibus:                       13.180   Durbin-Watson:                   0.907\n",
      "Prob(Omnibus):                  0.001   Jarque-Bera (JB):                8.100\n",
      "Skew:                           0.028   Prob(JB):                       0.0174\n",
      "Kurtosis:                       2.539   Cond. No.                     1.09e+07\n",
      "==============================================================================\n",
      "\n",
      "Notes:\n",
      "[1] R² is computed without centering (uncentered) since the model does not contain a constant.\n",
      "[2] Standard Errors assume that the covariance matrix of the errors is correctly specified.\n",
      "[3] The condition number is large, 1.09e+07. This might indicate that there are\n",
      "strong multicollinearity or other numerical problems.\n"
     ]
    }
   ],
   "source": [
    "x_columns.remove(\"injection_vol\")\n",
    "get_stats()"
   ]
  },
  {
   "cell_type": "code",
   "execution_count": 25,
   "metadata": {},
   "outputs": [
    {
     "name": "stdout",
     "output_type": "stream",
     "text": [
      "                                  OLS Regression Results                                 \n",
      "=========================================================================================\n",
      "Dep. Variable:     earthquake_occurence   R-squared (uncentered):                   0.302\n",
      "Model:                              OLS   Adj. R-squared (uncentered):              0.299\n",
      "Method:                   Least Squares   F-statistic:                              97.01\n",
      "Date:                  Fri, 23 Jul 2021   Prob (F-statistic):                    1.34e-68\n",
      "Time:                          00:29:52   Log-Likelihood:                         -715.12\n",
      "No. Observations:                   900   AIC:                                      1438.\n",
      "Df Residuals:                       896   BIC:                                      1457.\n",
      "Df Model:                             4                                                  \n",
      "Covariance Type:              nonrobust                                                  \n",
      "=======================================================================================\n",
      "                          coef    std err          t      P>|t|      [0.025      0.975]\n",
      "---------------------------------------------------------------------------------------\n",
      "injection_psi       -2.109e-07   2.55e-08     -8.260      0.000   -2.61e-07   -1.61e-07\n",
      "injection_depth_sum  6.961e-07    6.6e-08     10.544      0.000    5.67e-07    8.26e-07\n",
      "depth_to_basement    8.577e-05   1.55e-05      5.550      0.000    5.54e-05       0.000\n",
      "HF_number               0.0002   2.89e-05      8.250      0.000       0.000       0.000\n",
      "==============================================================================\n",
      "Omnibus:                       23.761   Durbin-Watson:                   0.909\n",
      "Prob(Omnibus):                  0.000   Jarque-Bera (JB):               12.359\n",
      "Skew:                           0.044   Prob(JB):                      0.00207\n",
      "Kurtosis:                       2.433   Cond. No.                     2.06e+03\n",
      "==============================================================================\n",
      "\n",
      "Notes:\n",
      "[1] R² is computed without centering (uncentered) since the model does not contain a constant.\n",
      "[2] Standard Errors assume that the covariance matrix of the errors is correctly specified.\n",
      "[3] The condition number is large, 2.06e+03. This might indicate that there are\n",
      "strong multicollinearity or other numerical problems.\n"
     ]
    }
   ],
   "source": [
    "x_columns.remove(\"HF_Base_Water_Volume\")\n",
    "get_stats()"
   ]
  },
  {
   "cell_type": "markdown",
   "metadata": {},
   "source": [
    "# 构建逻辑模型"
   ]
  },
  {
   "cell_type": "code",
   "execution_count": 28,
   "metadata": {},
   "outputs": [
    {
     "name": "stdout",
     "output_type": "stream",
     "text": [
      "原始数据特征： (900, 4) 训练数据特征： (720, 4) 测试数据特征 (180, 4)\n",
      "原始数据标签： (900,) 训练数据标签： (720,) 测试数据标签 (180,)\n"
     ]
    },
    {
     "data": {
      "text/plain": [
       "0.6555555555555556"
      ]
     },
     "execution_count": 28,
     "metadata": {},
     "output_type": "execute_result"
    }
   ],
   "source": [
    "#第一步：导入逻辑回归\n",
    "from sklearn.linear_model import LogisticRegression\n",
    "from sklearn.model_selection import train_test_split\n",
    "\n",
    "#特征features\n",
    "X = df[x_columns]\n",
    "#标签labels\n",
    "Y = df['earthquake_occurence']\n",
    "\n",
    "X_train,X_test,y_train,y_test=train_test_split(X,Y,train_size=0.8)\n",
    "\n",
    "#输出数据大小\n",
    "print('原始数据特征：',X.shape,\n",
    "     '训练数据特征：',X_train.shape,\n",
    "      '测试数据特征',X_test.shape)\n",
    "\n",
    "print('原始数据标签：',Y.shape,\n",
    "     '训练数据标签：',y_train.shape,\n",
    "      '测试数据标签',y_test.shape)\n",
    "\n",
    "feature_number = len(x_columns)\n",
    "\n",
    "#将训练数据特征转换成二维数组X行*1列\n",
    "X_train=X_train.values.reshape(-1,feature_number)\n",
    "#将测试数据特征转换成二维数组X行*1列\n",
    "X_test=X_test.values.reshape(-1,feature_number)\n",
    "\n",
    "\n",
    "#第二步：创建模型：逻辑回归\n",
    "model=LogisticRegression()\n",
    "#第三步：训练模型\n",
    "model.fit(X_train,y_train)\n",
    "\n",
    "#评估模型：准确率\n",
    "model.score(X_test,y_test)"
   ]
  },
  {
   "cell_type": "code",
   "execution_count": 29,
   "metadata": {},
   "outputs": [
    {
     "name": "stdout",
     "output_type": "stream",
     "text": [
      "['injection_psi', 'injection_depth_sum', 'depth_to_basement', 'HF_number']\n"
     ]
    }
   ],
   "source": [
    "print(x_columns)"
   ]
  },
  {
   "cell_type": "code",
   "execution_count": null,
   "metadata": {},
   "outputs": [],
   "source": []
  }
 ],
 "metadata": {
  "kernelspec": {
   "display_name": "Python 3",
   "language": "python",
   "name": "python3"
  },
  "language_info": {
   "codemirror_mode": {
    "name": "ipython",
    "version": 3
   },
   "file_extension": ".py",
   "mimetype": "text/x-python",
   "name": "python",
   "nbconvert_exporter": "python",
   "pygments_lexer": "ipython3",
   "version": "3.7.6"
  }
 },
 "nbformat": 4,
 "nbformat_minor": 4
}
